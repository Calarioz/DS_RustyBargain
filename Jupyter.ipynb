{
 "cells": [
  {
   "cell_type": "markdown",
   "metadata": {},
   "source": [
    "## INTRODUCTION\n",
    "\n",
    "Rusty Bargain is a used car sales service that is developing an app to attract new customers. Thanks to this app, you can quickly find out the market value of your car. We have access to the history, technical specifications, equipment versions, and prices. We need to create a model that determines the market value.\n",
    "\n",
    "Rusty Bargain is interested in:\n",
    "\n",
    "- The quality of the prediction\n",
    "- The speed of the prediction\n",
    "- The time required for training\n",
    "- Use the RECM metric to evaluate the models.\n",
    "\n",
    "This Dataset come from the ___TrippleTen - Data Scientis Course___."
   ]
  },
  {
   "cell_type": "markdown",
   "metadata": {},
   "source": [
    "## DATA DESCRIPTION\n",
    "\n",
    "car_data.csv\n",
    "- DateCrawled: the date when the profile was crawled from the database\n",
    "- VehicleType: the body type of the vehicle\n",
    "- RegistrationYear: the vehicle's registration year\n",
    "- Gearbox: the type of gearbox\n",
    "- Power: power (horsepower)\n",
    "- Model: the vehicle's model\n",
    "- Mileage: mileage (measured in kilometers according to the regional specifics of the dataset)\n",
    "- RegistrationMonth: the vehicle's registration month\n",
    "- FuelType: the type of fuel\n",
    "- Brand: the vehicle's brand\n",
    "- NotRepaired: whether the vehicle has been repaired or not\n",
    "- DateCreated: the date the profile was created\n",
    "- NumberOfPictures: the number of pictures of the vehicle\n",
    "- PostalCode: the postal code of the profile owner (user)\n",
    "- LastSeen: the date when the user was last active\n",
    "- Price: In Euros"
   ]
  },
  {
   "cell_type": "code",
   "execution_count": 53,
   "metadata": {},
   "outputs": [],
   "source": [
    "#pip install --upgrade lightgbm"
   ]
  },
  {
   "cell_type": "code",
   "execution_count": 54,
   "metadata": {},
   "outputs": [],
   "source": [
    "import pandas as pd\n",
    "import numpy as np\n",
    "import matplotlib.pyplot as plt  \n",
    "import seaborn as sns\n",
    "import time\n",
    "\n",
    "from sklearn.preprocessing import StandardScaler #Escalamiento de valores númericos [] \n",
    "from sklearn.preprocessing import OrdinalEncoder #Escalamiento para ml\n",
    "from sklearn.model_selection import train_test_split\n",
    "\n",
    "#Pruebas de cordura\n",
    "from sklearn.metrics import mean_squared_error\n",
    "\n",
    "#Para problemas de regresión (Valor numérico)\n",
    "import lightgbm as lgb\n",
    "from catboost import CatBoostRegressor\n",
    "import xgboost as xgb\n",
    "\n",
    "from sklearn.tree import DecisionTreeRegressor\n",
    "from sklearn.ensemble import RandomForestRegressor\n",
    "from sklearn.linear_model import LinearRegression"
   ]
  },
  {
   "cell_type": "code",
   "execution_count": 55,
   "metadata": {},
   "outputs": [],
   "source": [
    "# Getting Data set\n",
    "rusty_df = pd.read_csv('car_data.csv')"
   ]
  },
  {
   "cell_type": "code",
   "execution_count": 56,
   "metadata": {},
   "outputs": [
    {
     "name": "stdout",
     "output_type": "stream",
     "text": [
      "<class 'pandas.core.frame.DataFrame'>\n",
      "RangeIndex: 354369 entries, 0 to 354368\n",
      "Data columns (total 16 columns):\n",
      " #   Column             Non-Null Count   Dtype \n",
      "---  ------             --------------   ----- \n",
      " 0   DateCrawled        354369 non-null  object\n",
      " 1   Price              354369 non-null  int64 \n",
      " 2   VehicleType        316879 non-null  object\n",
      " 3   RegistrationYear   354369 non-null  int64 \n",
      " 4   Gearbox            334536 non-null  object\n",
      " 5   Power              354369 non-null  int64 \n",
      " 6   Model              334664 non-null  object\n",
      " 7   Mileage            354369 non-null  int64 \n",
      " 8   RegistrationMonth  354369 non-null  int64 \n",
      " 9   FuelType           321474 non-null  object\n",
      " 10  Brand              354369 non-null  object\n",
      " 11  NotRepaired        283215 non-null  object\n",
      " 12  DateCreated        354369 non-null  object\n",
      " 13  NumberOfPictures   354369 non-null  int64 \n",
      " 14  PostalCode         354369 non-null  int64 \n",
      " 15  LastSeen           354369 non-null  object\n",
      "dtypes: int64(7), object(9)\n",
      "memory usage: 43.3+ MB\n"
     ]
    }
   ],
   "source": [
    "rusty_df.info()"
   ]
  },
  {
   "cell_type": "code",
   "execution_count": 57,
   "metadata": {},
   "outputs": [
    {
     "data": {
      "text/html": [
       "<div>\n",
       "<style scoped>\n",
       "    .dataframe tbody tr th:only-of-type {\n",
       "        vertical-align: middle;\n",
       "    }\n",
       "\n",
       "    .dataframe tbody tr th {\n",
       "        vertical-align: top;\n",
       "    }\n",
       "\n",
       "    .dataframe thead th {\n",
       "        text-align: right;\n",
       "    }\n",
       "</style>\n",
       "<table border=\"1\" class=\"dataframe\">\n",
       "  <thead>\n",
       "    <tr style=\"text-align: right;\">\n",
       "      <th></th>\n",
       "      <th>DateCrawled</th>\n",
       "      <th>Price</th>\n",
       "      <th>VehicleType</th>\n",
       "      <th>RegistrationYear</th>\n",
       "      <th>Gearbox</th>\n",
       "      <th>Power</th>\n",
       "      <th>Model</th>\n",
       "      <th>Mileage</th>\n",
       "      <th>RegistrationMonth</th>\n",
       "      <th>FuelType</th>\n",
       "      <th>Brand</th>\n",
       "      <th>NotRepaired</th>\n",
       "      <th>DateCreated</th>\n",
       "      <th>NumberOfPictures</th>\n",
       "      <th>PostalCode</th>\n",
       "      <th>LastSeen</th>\n",
       "    </tr>\n",
       "  </thead>\n",
       "  <tbody>\n",
       "    <tr>\n",
       "      <th>139921</th>\n",
       "      <td>13/03/2016 09:41</td>\n",
       "      <td>300</td>\n",
       "      <td>small</td>\n",
       "      <td>1994</td>\n",
       "      <td>manual</td>\n",
       "      <td>0</td>\n",
       "      <td>3_reihe</td>\n",
       "      <td>5000</td>\n",
       "      <td>0</td>\n",
       "      <td>NaN</td>\n",
       "      <td>mazda</td>\n",
       "      <td>NaN</td>\n",
       "      <td>13/03/2016 00:00</td>\n",
       "      <td>0</td>\n",
       "      <td>33332</td>\n",
       "      <td>14/03/2016 22:15</td>\n",
       "    </tr>\n",
       "    <tr>\n",
       "      <th>325004</th>\n",
       "      <td>15/03/2016 20:51</td>\n",
       "      <td>2700</td>\n",
       "      <td>wagon</td>\n",
       "      <td>2001</td>\n",
       "      <td>manual</td>\n",
       "      <td>101</td>\n",
       "      <td>passat</td>\n",
       "      <td>150000</td>\n",
       "      <td>1</td>\n",
       "      <td>gasoline</td>\n",
       "      <td>volkswagen</td>\n",
       "      <td>no</td>\n",
       "      <td>15/03/2016 00:00</td>\n",
       "      <td>0</td>\n",
       "      <td>94344</td>\n",
       "      <td>17/03/2016 17:45</td>\n",
       "    </tr>\n",
       "    <tr>\n",
       "      <th>265743</th>\n",
       "      <td>30/03/2016 21:57</td>\n",
       "      <td>1390</td>\n",
       "      <td>sedan</td>\n",
       "      <td>1998</td>\n",
       "      <td>auto</td>\n",
       "      <td>125</td>\n",
       "      <td>a4</td>\n",
       "      <td>150000</td>\n",
       "      <td>4</td>\n",
       "      <td>petrol</td>\n",
       "      <td>audi</td>\n",
       "      <td>no</td>\n",
       "      <td>30/03/2016 00:00</td>\n",
       "      <td>0</td>\n",
       "      <td>41515</td>\n",
       "      <td>03/04/2016 13:45</td>\n",
       "    </tr>\n",
       "    <tr>\n",
       "      <th>61004</th>\n",
       "      <td>24/03/2016 20:59</td>\n",
       "      <td>2000</td>\n",
       "      <td>bus</td>\n",
       "      <td>2004</td>\n",
       "      <td>manual</td>\n",
       "      <td>113</td>\n",
       "      <td>scenic</td>\n",
       "      <td>150000</td>\n",
       "      <td>6</td>\n",
       "      <td>petrol</td>\n",
       "      <td>renault</td>\n",
       "      <td>NaN</td>\n",
       "      <td>24/03/2016 00:00</td>\n",
       "      <td>0</td>\n",
       "      <td>49191</td>\n",
       "      <td>24/03/2016 20:59</td>\n",
       "    </tr>\n",
       "    <tr>\n",
       "      <th>66829</th>\n",
       "      <td>04/04/2016 15:47</td>\n",
       "      <td>1500</td>\n",
       "      <td>small</td>\n",
       "      <td>1986</td>\n",
       "      <td>manual</td>\n",
       "      <td>0</td>\n",
       "      <td>NaN</td>\n",
       "      <td>125000</td>\n",
       "      <td>12</td>\n",
       "      <td>petrol</td>\n",
       "      <td>sonstige_autos</td>\n",
       "      <td>no</td>\n",
       "      <td>04/04/2016 00:00</td>\n",
       "      <td>0</td>\n",
       "      <td>85445</td>\n",
       "      <td>06/04/2016 17:18</td>\n",
       "    </tr>\n",
       "  </tbody>\n",
       "</table>\n",
       "</div>"
      ],
      "text/plain": [
       "             DateCrawled  Price VehicleType  RegistrationYear Gearbox  Power  \\\n",
       "139921  13/03/2016 09:41    300       small              1994  manual      0   \n",
       "325004  15/03/2016 20:51   2700       wagon              2001  manual    101   \n",
       "265743  30/03/2016 21:57   1390       sedan              1998    auto    125   \n",
       "61004   24/03/2016 20:59   2000         bus              2004  manual    113   \n",
       "66829   04/04/2016 15:47   1500       small              1986  manual      0   \n",
       "\n",
       "          Model  Mileage  RegistrationMonth  FuelType           Brand  \\\n",
       "139921  3_reihe     5000                  0       NaN           mazda   \n",
       "325004   passat   150000                  1  gasoline      volkswagen   \n",
       "265743       a4   150000                  4    petrol            audi   \n",
       "61004    scenic   150000                  6    petrol         renault   \n",
       "66829       NaN   125000                 12    petrol  sonstige_autos   \n",
       "\n",
       "       NotRepaired       DateCreated  NumberOfPictures  PostalCode  \\\n",
       "139921         NaN  13/03/2016 00:00                 0       33332   \n",
       "325004          no  15/03/2016 00:00                 0       94344   \n",
       "265743          no  30/03/2016 00:00                 0       41515   \n",
       "61004          NaN  24/03/2016 00:00                 0       49191   \n",
       "66829           no  04/04/2016 00:00                 0       85445   \n",
       "\n",
       "                LastSeen  \n",
       "139921  14/03/2016 22:15  \n",
       "325004  17/03/2016 17:45  \n",
       "265743  03/04/2016 13:45  \n",
       "61004   24/03/2016 20:59  \n",
       "66829   06/04/2016 17:18  "
      ]
     },
     "execution_count": 57,
     "metadata": {},
     "output_type": "execute_result"
    }
   ],
   "source": [
    "rusty_df.sample(5)"
   ]
  },
  {
   "cell_type": "markdown",
   "metadata": {},
   "source": [
    "Remarks\n",
    "\n",
    "Considering that the following columns have NaN values:\n",
    "\n",
    "- VehicleType\n",
    "- Gearbox\n",
    "- Model\n",
    "- FuelType\n",
    "- NotRepaired\n",
    "\n",
    "The following considerations will be made for data treatment:\n",
    "\n",
    "- The number of missing elements.\n",
    "- If there is already a category like 'Other', 'Unknown', etc., to which the missing values can be assigned.\n",
    "- The impact of creating a category like 'Other', 'Unknown'.\n",
    "\n",
    "We will also need to convert the column names to lowercase, and the date columns are not necessary, so they will be removed in the following steps, as well as the postal code and number of pictures. According to the project description, these are just informational dates and do not contribute value to the vehicle's price."
   ]
  },
  {
   "cell_type": "markdown",
   "metadata": {},
   "source": [
    "## PRE-PROCESSING"
   ]
  },
  {
   "cell_type": "code",
   "execution_count": 58,
   "metadata": {},
   "outputs": [
    {
     "name": "stdout",
     "output_type": "stream",
     "text": [
      "VehicleType =>  [nan 'coupe' 'suv' 'small' 'sedan' 'convertible' 'bus' 'wagon' 'other']\n",
      "Gearbox => ['manual' 'auto' nan]\n",
      "FuelType => ['petrol' 'gasoline' nan 'lpg' 'other' 'hybrid' 'cng' 'electric']\n",
      "NotRepaired => [nan 'yes' 'no']\n"
     ]
    }
   ],
   "source": [
    "print(f\"VehicleType =>  {rusty_df['VehicleType'].unique()}\")\n",
    "print(f\"Gearbox => {rusty_df['Gearbox'].unique()}\")\n",
    "print(f\"FuelType => {rusty_df['FuelType'].unique()}\")\n",
    "print(f\"NotRepaired => {rusty_df['NotRepaired'].unique()}\")"
   ]
  },
  {
   "cell_type": "markdown",
   "metadata": {},
   "source": [
    "Once we have obtained the unique values for each column, we can observe the following:\n",
    "\n",
    "| Columnas     | Contenido   | Solución    |\n",
    "|--------------|-------------|-------------| \n",
    "| VehicleType  | NaN / Other | Add Unknown |\n",
    "| Gearbox      | NaN         | Add Unknown |\n",
    "| FuelType     | NaN / Other | Add Unknown |\n",
    "| NotRepaired  | Nan         | Add Unknown |\n",
    "| Model        | NaN / Other | Add Unknown |\n",
    "\n",
    "In the third column, we can see what we will implement for each specific case:\n",
    "\n",
    "For the case of ___Gearbox and NotRepaired___, we will choose to add the category 'Unknown' since a similar format already exists in the other columns."
   ]
  },
  {
   "cell_type": "code",
   "execution_count": 59,
   "metadata": {},
   "outputs": [],
   "source": [
    "# Standarizing the columns names\n",
    "rusty_df.columns = rusty_df.columns.str.lower()"
   ]
  },
  {
   "cell_type": "code",
   "execution_count": 60,
   "metadata": {},
   "outputs": [
    {
     "name": "stderr",
     "output_type": "stream",
     "text": [
      "C:\\Users\\JoseC\\AppData\\Local\\Temp\\ipykernel_9968\\920796946.py:4: FutureWarning: A value is trying to be set on a copy of a DataFrame or Series through chained assignment using an inplace method.\n",
      "The behavior will change in pandas 3.0. This inplace method will never work because the intermediate object on which we are setting values always behaves as a copy.\n",
      "\n",
      "For example, when doing 'df[col].method(value, inplace=True)', try using 'df.method({col: value}, inplace=True)' or df[col] = df[col].method(value) instead, to perform the operation inplace on the original object.\n",
      "\n",
      "\n",
      "  rusty_df['vehicletype'].fillna('Unknown',inplace=True)\n",
      "C:\\Users\\JoseC\\AppData\\Local\\Temp\\ipykernel_9968\\920796946.py:6: FutureWarning: A value is trying to be set on a copy of a DataFrame or Series through chained assignment using an inplace method.\n",
      "The behavior will change in pandas 3.0. This inplace method will never work because the intermediate object on which we are setting values always behaves as a copy.\n",
      "\n",
      "For example, when doing 'df[col].method(value, inplace=True)', try using 'df.method({col: value}, inplace=True)' or df[col] = df[col].method(value) instead, to perform the operation inplace on the original object.\n",
      "\n",
      "\n",
      "  rusty_df['gearbox'].fillna('Unknown',inplace=True)\n",
      "C:\\Users\\JoseC\\AppData\\Local\\Temp\\ipykernel_9968\\920796946.py:8: FutureWarning: A value is trying to be set on a copy of a DataFrame or Series through chained assignment using an inplace method.\n",
      "The behavior will change in pandas 3.0. This inplace method will never work because the intermediate object on which we are setting values always behaves as a copy.\n",
      "\n",
      "For example, when doing 'df[col].method(value, inplace=True)', try using 'df.method({col: value}, inplace=True)' or df[col] = df[col].method(value) instead, to perform the operation inplace on the original object.\n",
      "\n",
      "\n",
      "  rusty_df['fueltype'].fillna('Unknown',inplace=True)\n",
      "C:\\Users\\JoseC\\AppData\\Local\\Temp\\ipykernel_9968\\920796946.py:10: FutureWarning: A value is trying to be set on a copy of a DataFrame or Series through chained assignment using an inplace method.\n",
      "The behavior will change in pandas 3.0. This inplace method will never work because the intermediate object on which we are setting values always behaves as a copy.\n",
      "\n",
      "For example, when doing 'df[col].method(value, inplace=True)', try using 'df.method({col: value}, inplace=True)' or df[col] = df[col].method(value) instead, to perform the operation inplace on the original object.\n",
      "\n",
      "\n",
      "  rusty_df['notrepaired'].fillna('Unknown',inplace=True)\n",
      "C:\\Users\\JoseC\\AppData\\Local\\Temp\\ipykernel_9968\\920796946.py:12: FutureWarning: A value is trying to be set on a copy of a DataFrame or Series through chained assignment using an inplace method.\n",
      "The behavior will change in pandas 3.0. This inplace method will never work because the intermediate object on which we are setting values always behaves as a copy.\n",
      "\n",
      "For example, when doing 'df[col].method(value, inplace=True)', try using 'df.method({col: value}, inplace=True)' or df[col] = df[col].method(value) instead, to perform the operation inplace on the original object.\n",
      "\n",
      "\n",
      "  rusty_df['model'].fillna('Unknown',inplace=True)\n"
     ]
    }
   ],
   "source": [
    "# Filling NaN values\n",
    "\n",
    "#  VehicleType\n",
    "rusty_df['vehicletype'].fillna('Unknown',inplace=True)\n",
    "# Gearbox\n",
    "rusty_df['gearbox'].fillna('Unknown',inplace=True)\n",
    "# FuelType\n",
    "rusty_df['fueltype'].fillna('Unknown',inplace=True)\n",
    "# NotRepaired\n",
    "rusty_df['notrepaired'].fillna('Unknown',inplace=True)\n",
    "# Model\n",
    "rusty_df['model'].fillna('Unknown',inplace=True)"
   ]
  },
  {
   "cell_type": "code",
   "execution_count": 61,
   "metadata": {},
   "outputs": [
    {
     "name": "stdout",
     "output_type": "stream",
     "text": [
      "<class 'pandas.core.frame.DataFrame'>\n",
      "RangeIndex: 354369 entries, 0 to 354368\n",
      "Data columns (total 16 columns):\n",
      " #   Column             Non-Null Count   Dtype \n",
      "---  ------             --------------   ----- \n",
      " 0   datecrawled        354369 non-null  object\n",
      " 1   price              354369 non-null  int64 \n",
      " 2   vehicletype        354369 non-null  object\n",
      " 3   registrationyear   354369 non-null  int64 \n",
      " 4   gearbox            354369 non-null  object\n",
      " 5   power              354369 non-null  int64 \n",
      " 6   model              354369 non-null  object\n",
      " 7   mileage            354369 non-null  int64 \n",
      " 8   registrationmonth  354369 non-null  int64 \n",
      " 9   fueltype           354369 non-null  object\n",
      " 10  brand              354369 non-null  object\n",
      " 11  notrepaired        354369 non-null  object\n",
      " 12  datecreated        354369 non-null  object\n",
      " 13  numberofpictures   354369 non-null  int64 \n",
      " 14  postalcode         354369 non-null  int64 \n",
      " 15  lastseen           354369 non-null  object\n",
      "dtypes: int64(7), object(9)\n",
      "memory usage: 43.3+ MB\n"
     ]
    }
   ],
   "source": [
    "rusty_df.info()"
   ]
  },
  {
   "cell_type": "code",
   "execution_count": 62,
   "metadata": {},
   "outputs": [],
   "source": [
    "# Dropping columns\n",
    "\n",
    "columns = ['datecrawled','datecreated','lastseen','postalcode','numberofpictures']\n",
    "rusty_df.drop(columns=columns, inplace= True)"
   ]
  },
  {
   "cell_type": "code",
   "execution_count": 63,
   "metadata": {},
   "outputs": [],
   "source": [
    "# Removing duplicates\n",
    "rusty_df = rusty_df.drop_duplicates().reset_index(drop=True)"
   ]
  },
  {
   "cell_type": "code",
   "execution_count": 64,
   "metadata": {},
   "outputs": [
    {
     "name": "stdout",
     "output_type": "stream",
     "text": [
      "<class 'pandas.core.frame.DataFrame'>\n",
      "RangeIndex: 326826 entries, 0 to 326825\n",
      "Data columns (total 11 columns):\n",
      " #   Column             Non-Null Count   Dtype \n",
      "---  ------             --------------   ----- \n",
      " 0   price              326826 non-null  int64 \n",
      " 1   vehicletype        326826 non-null  object\n",
      " 2   registrationyear   326826 non-null  int64 \n",
      " 3   gearbox            326826 non-null  object\n",
      " 4   power              326826 non-null  int64 \n",
      " 5   model              326826 non-null  object\n",
      " 6   mileage            326826 non-null  int64 \n",
      " 7   registrationmonth  326826 non-null  int64 \n",
      " 8   fueltype           326826 non-null  object\n",
      " 9   brand              326826 non-null  object\n",
      " 10  notrepaired        326826 non-null  object\n",
      "dtypes: int64(5), object(6)\n",
      "memory usage: 27.4+ MB\n"
     ]
    }
   ],
   "source": [
    "rusty_df.info()"
   ]
  },
  {
   "cell_type": "code",
   "execution_count": 65,
   "metadata": {},
   "outputs": [
    {
     "data": {
      "text/html": [
       "<div>\n",
       "<style scoped>\n",
       "    .dataframe tbody tr th:only-of-type {\n",
       "        vertical-align: middle;\n",
       "    }\n",
       "\n",
       "    .dataframe tbody tr th {\n",
       "        vertical-align: top;\n",
       "    }\n",
       "\n",
       "    .dataframe thead th {\n",
       "        text-align: right;\n",
       "    }\n",
       "</style>\n",
       "<table border=\"1\" class=\"dataframe\">\n",
       "  <thead>\n",
       "    <tr style=\"text-align: right;\">\n",
       "      <th></th>\n",
       "      <th>price</th>\n",
       "      <th>registrationyear</th>\n",
       "      <th>power</th>\n",
       "      <th>mileage</th>\n",
       "      <th>registrationmonth</th>\n",
       "    </tr>\n",
       "  </thead>\n",
       "  <tbody>\n",
       "    <tr>\n",
       "      <th>count</th>\n",
       "      <td>326826.000000</td>\n",
       "      <td>326826.000000</td>\n",
       "      <td>326826.000000</td>\n",
       "      <td>326826.000000</td>\n",
       "      <td>326826.000000</td>\n",
       "    </tr>\n",
       "    <tr>\n",
       "      <th>mean</th>\n",
       "      <td>4403.747330</td>\n",
       "      <td>2004.230985</td>\n",
       "      <td>110.244705</td>\n",
       "      <td>128144.073605</td>\n",
       "      <td>5.696239</td>\n",
       "    </tr>\n",
       "    <tr>\n",
       "      <th>std</th>\n",
       "      <td>4518.209808</td>\n",
       "      <td>91.120018</td>\n",
       "      <td>195.886373</td>\n",
       "      <td>37947.663920</td>\n",
       "      <td>3.724122</td>\n",
       "    </tr>\n",
       "    <tr>\n",
       "      <th>min</th>\n",
       "      <td>0.000000</td>\n",
       "      <td>1000.000000</td>\n",
       "      <td>0.000000</td>\n",
       "      <td>5000.000000</td>\n",
       "      <td>0.000000</td>\n",
       "    </tr>\n",
       "    <tr>\n",
       "      <th>25%</th>\n",
       "      <td>1000.000000</td>\n",
       "      <td>1999.000000</td>\n",
       "      <td>69.000000</td>\n",
       "      <td>125000.000000</td>\n",
       "      <td>3.000000</td>\n",
       "    </tr>\n",
       "    <tr>\n",
       "      <th>50%</th>\n",
       "      <td>2700.000000</td>\n",
       "      <td>2003.000000</td>\n",
       "      <td>105.000000</td>\n",
       "      <td>150000.000000</td>\n",
       "      <td>6.000000</td>\n",
       "    </tr>\n",
       "    <tr>\n",
       "      <th>75%</th>\n",
       "      <td>6350.000000</td>\n",
       "      <td>2008.000000</td>\n",
       "      <td>141.000000</td>\n",
       "      <td>150000.000000</td>\n",
       "      <td>9.000000</td>\n",
       "    </tr>\n",
       "    <tr>\n",
       "      <th>max</th>\n",
       "      <td>20000.000000</td>\n",
       "      <td>9999.000000</td>\n",
       "      <td>20000.000000</td>\n",
       "      <td>150000.000000</td>\n",
       "      <td>12.000000</td>\n",
       "    </tr>\n",
       "  </tbody>\n",
       "</table>\n",
       "</div>"
      ],
      "text/plain": [
       "               price  registrationyear          power        mileage  \\\n",
       "count  326826.000000     326826.000000  326826.000000  326826.000000   \n",
       "mean     4403.747330       2004.230985     110.244705  128144.073605   \n",
       "std      4518.209808         91.120018     195.886373   37947.663920   \n",
       "min         0.000000       1000.000000       0.000000    5000.000000   \n",
       "25%      1000.000000       1999.000000      69.000000  125000.000000   \n",
       "50%      2700.000000       2003.000000     105.000000  150000.000000   \n",
       "75%      6350.000000       2008.000000     141.000000  150000.000000   \n",
       "max     20000.000000       9999.000000   20000.000000  150000.000000   \n",
       "\n",
       "       registrationmonth  \n",
       "count      326826.000000  \n",
       "mean            5.696239  \n",
       "std             3.724122  \n",
       "min             0.000000  \n",
       "25%             3.000000  \n",
       "50%             6.000000  \n",
       "75%             9.000000  \n",
       "max            12.000000  "
      ]
     },
     "execution_count": 65,
     "metadata": {},
     "output_type": "execute_result"
    }
   ],
   "source": [
    "# Getting Statistical Description\n",
    "rusty_df.describe()"
   ]
  },
  {
   "cell_type": "code",
   "execution_count": 66,
   "metadata": {},
   "outputs": [
    {
     "data": {
      "text/plain": [
       "<Axes: >"
      ]
     },
     "execution_count": 66,
     "metadata": {},
     "output_type": "execute_result"
    },
    {
     "data": {
      "image/png": "[encoded data removed]",
      "text/plain": [
       "<Figure size 2000x1500 with 1 Axes>"
      ]
     },
     "metadata": {},
     "output_type": "display_data"
    }
   ],
   "source": [
    "# Creating a boxplot\n",
    "\n",
    "plt.figure(figsize=(20, 15))\n",
    "numeric_vals = rusty_df[['price','registrationyear','power','mileage','registrationmonth']]\n",
    "sns.boxplot(data=numeric_vals)"
   ]
  },
  {
   "cell_type": "markdown",
   "metadata": {},
   "source": [
    "Remarks\n",
    "\n",
    "We can notice that ___registrationyear___ has a maximum value of ___9999___ and a minimum value of ___1000___, which doesn't make sense if it represents the year the vehicle was registered. Therefore, we will need to investigate what is happening and remove any values that are inconsistent.\n",
    "\n",
    "For the case of ___power___, we might be deteling the values with 0 as well."
   ]
  },
  {
   "cell_type": "code",
   "execution_count": 67,
   "metadata": {},
   "outputs": [
    {
     "name": "stdout",
     "output_type": "stream",
     "text": [
      "[1000, 1001, 1039, 1111, 1200, 1234, 1253, 1255, 1300, 1400, 1500, 1600, 1602, 1688, 1800, 1910, 1915, 1919, 1920, 1923, 1925, 1927, 1928, 1929, 1930, 1931, 1932, 1933, 1934, 1935, 1936, 1937, 1938, 1940, 1941, 1942, 1943, 1944, 1945, 1946, 1947, 1948, 1949, 1950, 1951, 1952, 1953, 1954, 1955, 1956, 1957, 1958, 1959, 1960, 1961, 1962, 1963, 1964, 1965, 1966, 1967, 1968, 1969, 1970, 1971, 1972, 1973, 1974, 1975, 1976, 1977, 1978, 1979, 1980, 1981, 1982, 1983, 1984, 1985, 1986, 1987, 1988, 1989, 1990, 1991, 1992, 1993, 1994, 1995, 1996, 1997, 1998, 1999, 2000, 2001, 2002, 2003, 2004, 2005, 2006, 2007, 2008, 2009, 2010, 2011, 2012, 2013, 2014, 2015, 2016, 2017, 2018, 2019, 2066, 2200, 2222, 2290, 2500, 2800, 2900, 3000, 3200, 3500, 3700, 3800, 4000, 4100, 4500, 4800, 5000, 5300, 5555, 5600, 5900, 5911, 6000, 6500, 7000, 7100, 7500, 7800, 8000, 8200, 8455, 8500, 8888, 9000, 9229, 9450, 9996, 9999]\n"
     ]
    }
   ],
   "source": [
    "# Extract unique values to determine the range to be used\n",
    "\n",
    "unique_vals = sorted(rusty_df['registrationyear'].unique())\n",
    "print(unique_vals)"
   ]
  },
  {
   "cell_type": "code",
   "execution_count": 68,
   "metadata": {},
   "outputs": [
    {
     "data": {
      "text/plain": [
       "registrationyear\n",
       "1950      18\n",
       "1951      12\n",
       "1952       9\n",
       "1953      14\n",
       "1954      11\n",
       "        ... \n",
       "2015    1194\n",
       "2016    9251\n",
       "2017    9963\n",
       "2018    3745\n",
       "2019      23\n",
       "Name: price, Length: 70, dtype: int64"
      ]
     },
     "execution_count": 68,
     "metadata": {},
     "output_type": "execute_result"
    }
   ],
   "source": [
    "# Verify from which year there is a reasonable amount of records.\n",
    "\n",
    "rusty_df[(rusty_df['registrationyear']>= 1950) & (rusty_df['registrationyear'] <= 2024)].groupby('registrationyear')['price'].count()"
   ]
  },
  {
   "cell_type": "code",
   "execution_count": 69,
   "metadata": {},
   "outputs": [],
   "source": [
    "# Filter the DataFrame according to the conditions registrationyear >= 1950 & <=2024\n",
    "rusty_df = rusty_df[(rusty_df['registrationyear'] >= 1960) & (rusty_df['registrationyear'] <= 2024)].reset_index(drop=True)\n"
   ]
  },
  {
   "cell_type": "code",
   "execution_count": 70,
   "metadata": {},
   "outputs": [
    {
     "name": "stdout",
     "output_type": "stream",
     "text": [
      "[0, 1, 2, 3, 4, 5, 6, 7, 8, 9, 10, 11, 12, 13, 14, 15, 16, 17, 18, 19, 20, 21, 22, 23, 24, 25, 26, 27, 28, 29, 30, 31, 32, 33, 34, 35, 36, 37, 38, 39]\n"
     ]
    }
   ],
   "source": [
    "# Extract the unique values for the 'power' variable\n",
    "unique_vals2 = sorted(rusty_df['power'].unique())\n",
    "print(unique_vals2[:40])\n"
   ]
  },
  {
   "cell_type": "code",
   "execution_count": 71,
   "metadata": {},
   "outputs": [],
   "source": [
    "# Remove all records where the value of 'power' is 0\n",
    "rusty_df = rusty_df[rusty_df['power'] > 0].reset_index(drop=True)"
   ]
  },
  {
   "cell_type": "code",
   "execution_count": 72,
   "metadata": {},
   "outputs": [
    {
     "data": {
      "image/png": "[encoded data removed]",
      "text/plain": [
       "<Figure size 1500x800 with 6 Axes>"
      ]
     },
     "metadata": {},
     "output_type": "display_data"
    }
   ],
   "source": [
    "# Create a histogram to visualize the values\n",
    "rusty_df.hist(figsize=(15, 8))  # Figure size (width, height)\n",
    "plt.show()"
   ]
  },
  {
   "cell_type": "markdown",
   "metadata": {},
   "source": [
    "Remarks\n",
    "\n",
    "We can notice the following:\n",
    "\n",
    "- ___Price:___ It has a positive skew.\n",
    "- ___RegistrationYear:___ It has a negative skew.\n",
    "- ___Power:___ Due to the inability to determine if its values are real or not, it appears as a single peak.\n",
    "- ___Mileage:___ It has a very irregular negative skew.\n",
    "- ___RegistrationMonth:___ It has multiple peaks, making it also very irregular."
   ]
  },
  {
   "cell_type": "code",
   "execution_count": 73,
   "metadata": {},
   "outputs": [],
   "source": [
    "def standard_75_25(df):\n",
    "    \n",
    "    # Separate features from the target\n",
    "    f = df.drop(['price'], axis=1)\n",
    "    t = df['price']\n",
    "\n",
    "    # Split the dataset into a 75/25 proportion\n",
    "    f_train, f_valid, t_train, t_valid = train_test_split(f, t, test_size=0.25, random_state=1996)\n",
    "\n",
    "    # Create explicit copies of f_train and f_valid\n",
    "    f_train = f_train.copy()\n",
    "    f_valid = f_valid.copy()\n",
    "\n",
    "    # Standardize the numerical values using StandardScaler\n",
    "    # Define the numerical columns\n",
    "    df_columns2 = ['registrationyear', 'power', 'mileage', 'registrationmonth']\n",
    "\n",
    "    # Perform the standardization\n",
    "    # Use .loc[:,] to specify that only certain columns will be standardized across all rows\n",
    "    scaler = StandardScaler()\n",
    "    f_train.loc[:, df_columns2] = scaler.fit_transform(f_train.loc[:, df_columns2])\n",
    "    f_valid.loc[:, df_columns2] = scaler.transform(f_valid.loc[:, df_columns2])\n",
    "    \n",
    "    return f_train, f_valid, t_train, t_valid\n",
    "\n",
    "# Determine the categorical columns\n",
    "df_columns = ['vehicletype', 'gearbox','model', 'fueltype', 'brand', 'notrepaired'] # Removed the 'model' variable\n",
    "\n",
    "# Duplicate the original df and determine the new categorical data\n",
    "df_columns_encoded = ['vehicletype_encoded', 'gearbox_encoded','model_encoded', 'fueltype_encoded', 'brand_encoded', 'notrepaired_encoded'] # Removed the 'model' variable\n",
    "df_ordinal_encoder = rusty_df.copy()\n",
    "\n"
   ]
  },
  {
   "cell_type": "markdown",
   "metadata": {},
   "source": [
    "### Standardization for the Linear Regression Model - With One-Hot Encoding (OHE)"
   ]
  },
  {
   "cell_type": "code",
   "execution_count": 74,
   "metadata": {},
   "outputs": [
    {
     "name": "stderr",
     "output_type": "stream",
     "text": [
      "C:\\Users\\JoseC\\AppData\\Local\\Temp\\ipykernel_9968\\660504428.py:21: FutureWarning: Setting an item of incompatible dtype is deprecated and will raise in a future error of pandas. Value '[0.25288638 1.40480903 1.11682837 ... 0.68485737 0.68485737 0.25288638]' has dtype incompatible with int64, please explicitly cast to a compatible dtype first.\n",
      "  f_train.loc[:, df_columns2] = scaler.fit_transform(f_train.loc[:, df_columns2])\n",
      "C:\\Users\\JoseC\\AppData\\Local\\Temp\\ipykernel_9968\\660504428.py:21: FutureWarning: Setting an item of incompatible dtype is deprecated and will raise in a future error of pandas. Value '[-0.30557186 -0.09361377  0.07498926 ... -0.01172087 -0.07434485\n",
      "  0.05572034]' has dtype incompatible with int64, please explicitly cast to a compatible dtype first.\n",
      "  f_train.loc[:, df_columns2] = scaler.fit_transform(f_train.loc[:, df_columns2])\n",
      "C:\\Users\\JoseC\\AppData\\Local\\Temp\\ipykernel_9968\\660504428.py:21: FutureWarning: Setting an item of incompatible dtype is deprecated and will raise in a future error of pandas. Value '[ 0.58292555 -2.40159018 -1.85895096 ... -1.58763135 -1.85895096\n",
      "  0.58292555]' has dtype incompatible with int64, please explicitly cast to a compatible dtype first.\n",
      "  f_train.loc[:, df_columns2] = scaler.fit_transform(f_train.loc[:, df_columns2])\n",
      "C:\\Users\\JoseC\\AppData\\Local\\Temp\\ipykernel_9968\\660504428.py:21: FutureWarning: Setting an item of incompatible dtype is deprecated and will raise in a future error of pandas. Value '[-0.25453181  0.29813661  0.29813661 ...  0.29813661  0.0218024\n",
      "  0.0218024 ]' has dtype incompatible with int64, please explicitly cast to a compatible dtype first.\n",
      "  f_train.loc[:, df_columns2] = scaler.fit_transform(f_train.loc[:, df_columns2])\n",
      "C:\\Users\\JoseC\\AppData\\Local\\Temp\\ipykernel_9968\\660504428.py:22: FutureWarning: Setting an item of incompatible dtype is deprecated and will raise in a future error of pandas. Value '[ 0.10889605 -3.34687193 -0.46706528 ... -0.32307495  0.97283804\n",
      " -0.89903628]' has dtype incompatible with int64, please explicitly cast to a compatible dtype first.\n",
      "  f_valid.loc[:, df_columns2] = scaler.transform(f_valid.loc[:, df_columns2])\n",
      "C:\\Users\\JoseC\\AppData\\Local\\Temp\\ipykernel_9968\\660504428.py:22: FutureWarning: Setting an item of incompatible dtype is deprecated and will raise in a future error of pandas. Value '[-0.35856138 -0.31038909  0.12316156 ...  0.19542    -0.0502587\n",
      " -0.04062424]' has dtype incompatible with int64, please explicitly cast to a compatible dtype first.\n",
      "  f_valid.loc[:, df_columns2] = scaler.transform(f_valid.loc[:, df_columns2])\n",
      "C:\\Users\\JoseC\\AppData\\Local\\Temp\\ipykernel_9968\\660504428.py:22: FutureWarning: Setting an item of incompatible dtype is deprecated and will raise in a future error of pandas. Value '[-0.77367251  0.58292555  0.58292555 ...  0.58292555 -0.09537348\n",
      " -0.09537348]' has dtype incompatible with int64, please explicitly cast to a compatible dtype first.\n",
      "  f_valid.loc[:, df_columns2] = scaler.transform(f_valid.loc[:, df_columns2])\n",
      "C:\\Users\\JoseC\\AppData\\Local\\Temp\\ipykernel_9968\\660504428.py:22: FutureWarning: Setting an item of incompatible dtype is deprecated and will raise in a future error of pandas. Value '[-1.63620287 -1.08353445  0.29813661 ... -0.53086602 -0.53086602\n",
      " -0.53086602]' has dtype incompatible with int64, please explicitly cast to a compatible dtype first.\n",
      "  f_valid.loc[:, df_columns2] = scaler.transform(f_valid.loc[:, df_columns2])\n"
     ]
    }
   ],
   "source": [
    "# Standardize the nominal categorical values with One-Hot Encoding\n",
    "\n",
    "# Perform the standardization\n",
    "df_one_hot = pd.get_dummies(rusty_df, columns=df_columns, drop_first=True)\n",
    "\n",
    "# Proceed to obtain the validation and training sets\n",
    "f_train1, f_valid1, t_train1, t_valid1 = standard_75_25(df_one_hot)"
   ]
  },
  {
   "cell_type": "markdown",
   "metadata": {},
   "source": [
    "### Standardization for Other Models - With Ordinal Encoder"
   ]
  },
  {
   "cell_type": "code",
   "execution_count": 75,
   "metadata": {},
   "outputs": [
    {
     "name": "stderr",
     "output_type": "stream",
     "text": [
      "C:\\Users\\JoseC\\AppData\\Local\\Temp\\ipykernel_9968\\660504428.py:21: FutureWarning: Setting an item of incompatible dtype is deprecated and will raise in a future error of pandas. Value '[0.25288638 1.40480903 1.11682837 ... 0.68485737 0.68485737 0.25288638]' has dtype incompatible with int64, please explicitly cast to a compatible dtype first.\n",
      "  f_train.loc[:, df_columns2] = scaler.fit_transform(f_train.loc[:, df_columns2])\n",
      "C:\\Users\\JoseC\\AppData\\Local\\Temp\\ipykernel_9968\\660504428.py:21: FutureWarning: Setting an item of incompatible dtype is deprecated and will raise in a future error of pandas. Value '[-0.30557186 -0.09361377  0.07498926 ... -0.01172087 -0.07434485\n",
      "  0.05572034]' has dtype incompatible with int64, please explicitly cast to a compatible dtype first.\n",
      "  f_train.loc[:, df_columns2] = scaler.fit_transform(f_train.loc[:, df_columns2])\n",
      "C:\\Users\\JoseC\\AppData\\Local\\Temp\\ipykernel_9968\\660504428.py:21: FutureWarning: Setting an item of incompatible dtype is deprecated and will raise in a future error of pandas. Value '[ 0.58292555 -2.40159018 -1.85895096 ... -1.58763135 -1.85895096\n",
      "  0.58292555]' has dtype incompatible with int64, please explicitly cast to a compatible dtype first.\n",
      "  f_train.loc[:, df_columns2] = scaler.fit_transform(f_train.loc[:, df_columns2])\n",
      "C:\\Users\\JoseC\\AppData\\Local\\Temp\\ipykernel_9968\\660504428.py:21: FutureWarning: Setting an item of incompatible dtype is deprecated and will raise in a future error of pandas. Value '[-0.25453181  0.29813661  0.29813661 ...  0.29813661  0.0218024\n",
      "  0.0218024 ]' has dtype incompatible with int64, please explicitly cast to a compatible dtype first.\n",
      "  f_train.loc[:, df_columns2] = scaler.fit_transform(f_train.loc[:, df_columns2])\n",
      "C:\\Users\\JoseC\\AppData\\Local\\Temp\\ipykernel_9968\\660504428.py:22: FutureWarning: Setting an item of incompatible dtype is deprecated and will raise in a future error of pandas. Value '[ 0.10889605 -3.34687193 -0.46706528 ... -0.32307495  0.97283804\n",
      " -0.89903628]' has dtype incompatible with int64, please explicitly cast to a compatible dtype first.\n",
      "  f_valid.loc[:, df_columns2] = scaler.transform(f_valid.loc[:, df_columns2])\n",
      "C:\\Users\\JoseC\\AppData\\Local\\Temp\\ipykernel_9968\\660504428.py:22: FutureWarning: Setting an item of incompatible dtype is deprecated and will raise in a future error of pandas. Value '[-0.35856138 -0.31038909  0.12316156 ...  0.19542    -0.0502587\n",
      " -0.04062424]' has dtype incompatible with int64, please explicitly cast to a compatible dtype first.\n",
      "  f_valid.loc[:, df_columns2] = scaler.transform(f_valid.loc[:, df_columns2])\n",
      "C:\\Users\\JoseC\\AppData\\Local\\Temp\\ipykernel_9968\\660504428.py:22: FutureWarning: Setting an item of incompatible dtype is deprecated and will raise in a future error of pandas. Value '[-0.77367251  0.58292555  0.58292555 ...  0.58292555 -0.09537348\n",
      " -0.09537348]' has dtype incompatible with int64, please explicitly cast to a compatible dtype first.\n",
      "  f_valid.loc[:, df_columns2] = scaler.transform(f_valid.loc[:, df_columns2])\n",
      "C:\\Users\\JoseC\\AppData\\Local\\Temp\\ipykernel_9968\\660504428.py:22: FutureWarning: Setting an item of incompatible dtype is deprecated and will raise in a future error of pandas. Value '[-1.63620287 -1.08353445  0.29813661 ... -0.53086602 -0.53086602\n",
      " -0.53086602]' has dtype incompatible with int64, please explicitly cast to a compatible dtype first.\n",
      "  f_valid.loc[:, df_columns2] = scaler.transform(f_valid.loc[:, df_columns2])\n"
     ]
    }
   ],
   "source": [
    "# Create an instance of OrdinalEncoder\n",
    "ordinal_encoder = OrdinalEncoder()\n",
    "\n",
    "# Add the new columns to the DataFrame\n",
    "df_ordinal_encoder[df_columns_encoded] = ordinal_encoder.fit_transform(df_ordinal_encoder[df_columns])\n",
    "\n",
    "# Drop the original columns\n",
    "df_ordinal_encoder = df_ordinal_encoder.drop(df_columns, axis=1)\n",
    "\n",
    "# Proceed to obtain the validation and training sets\n",
    "f_train, f_valid, t_train, t_valid = standard_75_25(df_ordinal_encoder)\n",
    "\n",
    "\n"
   ]
  },
  {
   "cell_type": "markdown",
   "metadata": {},
   "source": [
    "## Training Models"
   ]
  },
  {
   "cell_type": "markdown",
   "metadata": {},
   "source": [
    "### Decision Tree Regressor"
   ]
  },
  {
   "cell_type": "code",
   "execution_count": 76,
   "metadata": {},
   "outputs": [
    {
     "name": "stdout",
     "output_type": "stream",
     "text": [
      "RMSE of the best model on the validation set (max_depth = 12): 2061.4948027381106\n"
     ]
    }
   ],
   "source": [
    "# Search for the best possible combination\n",
    "\n",
    "# Initialize parameters\n",
    "best_result = 10000\n",
    "best_depth = 0\n",
    "\n",
    "for depth in range(1, 30):  # select the range of the hyperparameter\n",
    "    tree_model = DecisionTreeRegressor(random_state=1996, max_depth=depth)\n",
    "    tree_model.fit(f_train, t_train)  # train the model on the training set\n",
    "    p_valid = tree_model.predict(f_valid)  # get predictions from the model on the validation set\n",
    "    rmse = mean_squared_error(t_valid, p_valid) ** 0.5  # calculate the RMSE on the validation set\n",
    "    if rmse < best_result:\n",
    "        best_result = rmse\n",
    "        best_depth = depth\n",
    "\n",
    "print(f\"RMSE of the best model on the validation set (max_depth = {best_depth}): {best_result}\")\n"
   ]
  },
  {
   "cell_type": "code",
   "execution_count": 77,
   "metadata": {},
   "outputs": [
    {
     "name": "stdout",
     "output_type": "stream",
     "text": [
      "Execution time: 0.53 seconds\n",
      "RMSE: 2061.4948\n"
     ]
    }
   ],
   "source": [
    "# Start the timer with the best RMSE\n",
    "start_time = time.time()\n",
    "\n",
    "# Create model \n",
    "tree_model = DecisionTreeRegressor(random_state=1996, max_depth=12)\n",
    "\n",
    "# Train model\n",
    "tree_model.fit(f_train, t_train)  # train the model on the training set\n",
    "p_valid = tree_model.predict(f_valid)  # get predictions from the model on the validation set\n",
    "\n",
    "# Calculate RMSE as the evaluation metric\n",
    "tree_rmse = mean_squared_error(t_valid, p_valid) ** 0.5  # calculate RMSE on the validation set\n",
    "\n",
    "# Calculate execution time\n",
    "end_time = time.time()\n",
    "tree_execution_time = end_time - start_time\n",
    "print(f\"Execution time: {tree_execution_time:.2f} seconds\")\n",
    "\n",
    "print(f\"RMSE: {tree_rmse:.4f}\")"
   ]
  },
  {
   "cell_type": "markdown",
   "metadata": {},
   "source": [
    "### Random Forest Regressor"
   ]
  },
  {
   "cell_type": "code",
   "execution_count": 78,
   "metadata": {},
   "outputs": [
    {
     "name": "stdout",
     "output_type": "stream",
     "text": [
      "The best RMSE: 1793.8902380320449 with a depth of 21\n"
     ]
    }
   ],
   "source": [
    "# Search for the best possible combination\n",
    "\n",
    "# Initialize parameters\n",
    "best_error = 10000  # set the starting RMSE\n",
    "best_est = 0\n",
    "best_depth = 0\n",
    "\n",
    "# Loop through various hyperparameters with increments of 5\n",
    "for depth in range(1, 40, 5):\n",
    "    forest_model = RandomForestRegressor(random_state=1996, n_estimators=20, max_depth=depth)\n",
    "    forest_model.fit(f_train, t_train)  # train the model on the training set\n",
    "    p_valid = forest_model.predict(f_valid)\n",
    "    rmse = mean_squared_error(t_valid, p_valid) ** 0.5  # calculate the RMSE on the validation set\n",
    "    \n",
    "    # Store the best error, estimator, and depth\n",
    "    if rmse < best_error:  # save the model configuration if it achieves the lowest error\n",
    "        best_error = rmse\n",
    "        best_depth = depth\n",
    "\n",
    "print(f\"The best RMSE: {best_error} with a depth of {best_depth}\")"
   ]
  },
  {
   "cell_type": "code",
   "execution_count": 79,
   "metadata": {},
   "outputs": [
    {
     "name": "stdout",
     "output_type": "stream",
     "text": [
      "Execution time: 17.77 seconds\n",
      "RMSE: 1786.6863\n"
     ]
    }
   ],
   "source": [
    "# Start the timer with the best RMSE\n",
    "start_time = time.time()\n",
    "\n",
    "# Create model\n",
    "forest_model = RandomForestRegressor(random_state=1996, n_estimators=25, max_depth=21)\n",
    "\n",
    "# Train model\n",
    "forest_model.fit(f_train, t_train)  # train the model on the training set\n",
    "p_valid = forest_model.predict(f_valid)\n",
    "\n",
    "# Calculate RMSE as the evaluation metric\n",
    "forest_rmse = mean_squared_error(t_valid, p_valid) ** 0.5  # calculate RMSE on the validation set\n",
    "\n",
    "# Calculate execution time\n",
    "end_time = time.time()\n",
    "forest_execution_time = end_time - start_time\n",
    "print(f\"Execution time: {forest_execution_time:.2f} seconds\")\n",
    "\n",
    "print(f\"RMSE: {forest_rmse:.4f}\")\n"
   ]
  },
  {
   "cell_type": "markdown",
   "metadata": {},
   "source": [
    "### Logistic Regression"
   ]
  },
  {
   "cell_type": "code",
   "execution_count": 80,
   "metadata": {},
   "outputs": [
    {
     "name": "stdout",
     "output_type": "stream",
     "text": [
      "Execution time: 7.35 seconds\n",
      "RMSE: 2822.1237\n"
     ]
    }
   ],
   "source": [
    "# Start the timer with the best RMSE\n",
    "start_time = time.time()\n",
    "\n",
    "# Create model\n",
    "log_model = LinearRegression()\n",
    "\n",
    "# Train model\n",
    "log_model.fit(f_train1, t_train1)\n",
    "p_valid1 = log_model.predict(f_valid1)\n",
    "\n",
    "# Calculate RMSE as the evaluation metric\n",
    "log_rmse = mean_squared_error(t_valid1, p_valid1) ** 0.5\n",
    "\n",
    "# Calculate execution time\n",
    "end_time = time.time()\n",
    "log_execution_time = end_time - start_time\n",
    "print(f\"Execution time: {log_execution_time:.2f} seconds\")\n",
    "\n",
    "print(f\"RMSE: {log_rmse:.4f}\")\n"
   ]
  },
  {
   "cell_type": "markdown",
   "metadata": {},
   "source": [
    "### LGBM"
   ]
  },
  {
   "cell_type": "code",
   "execution_count": 81,
   "metadata": {},
   "outputs": [
    {
     "name": "stdout",
     "output_type": "stream",
     "text": [
      "[LightGBM] [Info] Auto-choosing row-wise multi-threading, the overhead of testing was 0.006766 seconds.\n",
      "You can set `force_row_wise=true` to remove the overhead.\n",
      "And if memory is not enough, you can set `force_col_wise=true`.\n",
      "[LightGBM] [Info] Total Bins 654\n",
      "[LightGBM] [Info] Number of data points in the train set: 217190, number of used features: 10\n",
      "[LightGBM] [Info] Start training from score 4681.449878\n",
      "Execution time: 2.21 seconds\n",
      "RMSE: 1738.3078\n"
     ]
    }
   ],
   "source": [
    "# Start the timer with the best RMSE\n",
    "start_time = time.time()\n",
    "\n",
    "# Convert the data to the specific format for LightGBM\n",
    "train_data = lgb.Dataset(f_train, label=t_train)\n",
    "test_data = lgb.Dataset(f_valid, label=t_valid, reference=train_data)\n",
    "\n",
    "# Define the model parameters\n",
    "params = {\n",
    "    'objective': 'regression',   # Regression problem\n",
    "    'metric': 'mse',             # Evaluation metric: Mean Squared Error\n",
    "    'boosting_type': 'gbdt',     # Boosting type: Gradient Boosting Decision Tree\n",
    "    'num_leaves': 30,            # Maximum number of leaves per tree\n",
    "    'learning_rate': 0.1,        # Model learning rate\n",
    "    'feature_fraction': 0.8,     # Fraction of features to consider per tree\n",
    "    'bagging_fraction': 0.8,     # Fraction of data to use per tree\n",
    "    'bagging_freq': 1,           # Frequency of bagging\n",
    "    'verbose': 1                 # Show information during training (0 for nothing, 1 to see training progress, and >1 to see all messages)\n",
    "}\n",
    "\n",
    "# Train the model\n",
    "num_round = 350\n",
    "lgb_model = lgb.train(params, train_data, num_round, valid_sets=[test_data])\n",
    "p_valid = lgb_model.predict(f_valid, num_iteration=lgb_model.best_iteration)\n",
    "\n",
    "# Calculate RMSE as the evaluation metric\n",
    "lgb_rmse = mean_squared_error(t_valid, p_valid) ** 0.5\n",
    "\n",
    "# Calculate execution time\n",
    "end_time = time.time()\n",
    "lgb_execution_time = end_time - start_time\n",
    "print(f\"Execution time: {lgb_execution_time:.2f} seconds\")\n",
    "\n",
    "print(f\"RMSE: {lgb_rmse:.4f}\")\n"
   ]
  },
  {
   "cell_type": "markdown",
   "metadata": {},
   "source": [
    "### CatBoost Regressor"
   ]
  },
  {
   "cell_type": "code",
   "execution_count": 82,
   "metadata": {},
   "outputs": [
    {
     "name": "stdout",
     "output_type": "stream",
     "text": [
      "0:\tlearn: 4277.8589418\ttotal: 30.6ms\tremaining: 21.4s\n",
      "100:\tlearn: 1811.7220298\ttotal: 2.27s\tremaining: 13.5s\n",
      "200:\tlearn: 1718.8011142\ttotal: 4.46s\tremaining: 11.1s\n",
      "300:\tlearn: 1672.2381160\ttotal: 6.72s\tremaining: 8.9s\n",
      "400:\tlearn: 1639.4374343\ttotal: 8.92s\tremaining: 6.65s\n",
      "500:\tlearn: 1611.1587657\ttotal: 11.3s\tremaining: 4.5s\n",
      "600:\tlearn: 1589.0299922\ttotal: 14.1s\tremaining: 2.33s\n",
      "699:\tlearn: 1569.2259145\ttotal: 16.3s\tremaining: 0us\n",
      "Execution time: 16.69 seconds\n",
      "RMSE: 1715.9567\n"
     ]
    }
   ],
   "source": [
    "# Start the timer with the best RMSE\n",
    "start_time = time.time()\n",
    "\n",
    "# Define the model parameters\n",
    "cat_model = CatBoostRegressor(iterations=700,\n",
    "                              learning_rate=0.1,\n",
    "                              depth=8,\n",
    "                              loss_function='RMSE',\n",
    "                              random_state=1196)\n",
    "\n",
    "# Train the model\n",
    "cat_model.fit(f_train, t_train, verbose=100)\n",
    "p_valid = cat_model.predict(f_valid)\n",
    "\n",
    "# Evaluate the model\n",
    "cat_rmse = mean_squared_error(t_valid, p_valid) ** 0.5\n",
    "\n",
    "# Calculate execution time\n",
    "end_time = time.time()\n",
    "cat_execution_time = end_time - start_time\n",
    "print(f\"Execution time: {cat_execution_time:.2f} seconds\")\n",
    "\n",
    "print(f\"RMSE: {cat_rmse:.4f}\")\n"
   ]
  },
  {
   "cell_type": "markdown",
   "metadata": {},
   "source": [
    "### XBG Regressor"
   ]
  },
  {
   "cell_type": "code",
   "execution_count": 83,
   "metadata": {},
   "outputs": [
    {
     "name": "stdout",
     "output_type": "stream",
     "text": [
      "Execution time: 2.03 seconds\n",
      "RMSE: 1706.7336\n"
     ]
    }
   ],
   "source": [
    "# Start the timer with the best RMSE\n",
    "start_time = time.time()\n",
    "\n",
    "# Define the model parameters\n",
    "params = {\n",
    "    'objective': 'reg:squarederror',  # Loss function for regression\n",
    "    'max_depth': 10,                  # Maximum depth of the tree\n",
    "    'learning_rate': 0.1,             # Learning rate\n",
    "    'n_estimators': 120               # Number of trees (estimators)\n",
    "}\n",
    "\n",
    "# Create the model\n",
    "xgb_model = xgb.XGBRegressor(**params)\n",
    "xgb_model.fit(f_train, t_train)\n",
    "p_valid = xgb_model.predict(f_valid)\n",
    "\n",
    "# Evaluate the model\n",
    "xgb_rmse = mean_squared_error(t_valid, p_valid) ** 0.5\n",
    "\n",
    "# Calculate the execution time\n",
    "end_time = time.time()\n",
    "xgb_execution_time = end_time - start_time\n",
    "print(f\"Execution time: {xgb_execution_time:.2f} seconds\")\n",
    "\n",
    "print(f\"RMSE: {xgb_rmse:.4f}\")"
   ]
  },
  {
   "cell_type": "markdown",
   "metadata": {},
   "source": [
    "### COMPARING MODELS"
   ]
  },
  {
   "cell_type": "code",
   "execution_count": 84,
   "metadata": {},
   "outputs": [],
   "source": [
    "# Create a DataFrame with the results\n",
    "ml_names = ['DecisionTree', 'RandomForest', 'LinearRegression', 'LGBM', 'CATBOOST', 'XGB']\n",
    "rmse_df = pd.DataFrame(\n",
    "    {\n",
    "        'Execution Time (sec)':[tree_execution_time, forest_execution_time, log_execution_time, lgb_execution_time, cat_execution_time, xgb_execution_time],\n",
    "        'RMSE':[tree_rmse, forest_rmse, log_rmse, lgb_rmse, cat_rmse, xgb_rmse],\n",
    "    },\n",
    "    index= ml_names\n",
    ")\n"
   ]
  },
  {
   "cell_type": "code",
   "execution_count": 85,
   "metadata": {},
   "outputs": [
    {
     "data": {
      "text/html": [
       "<div>\n",
       "<style scoped>\n",
       "    .dataframe tbody tr th:only-of-type {\n",
       "        vertical-align: middle;\n",
       "    }\n",
       "\n",
       "    .dataframe tbody tr th {\n",
       "        vertical-align: top;\n",
       "    }\n",
       "\n",
       "    .dataframe thead th {\n",
       "        text-align: right;\n",
       "    }\n",
       "</style>\n",
       "<table border=\"1\" class=\"dataframe\">\n",
       "  <thead>\n",
       "    <tr style=\"text-align: right;\">\n",
       "      <th></th>\n",
       "      <th>Execution Time (sec)</th>\n",
       "      <th>RMSE</th>\n",
       "    </tr>\n",
       "  </thead>\n",
       "  <tbody>\n",
       "    <tr>\n",
       "      <th>DecisionTree</th>\n",
       "      <td>0.530017</td>\n",
       "      <td>2061.494803</td>\n",
       "    </tr>\n",
       "    <tr>\n",
       "      <th>RandomForest</th>\n",
       "      <td>17.766614</td>\n",
       "      <td>1786.686294</td>\n",
       "    </tr>\n",
       "    <tr>\n",
       "      <th>LinearRegression</th>\n",
       "      <td>7.345530</td>\n",
       "      <td>2822.123714</td>\n",
       "    </tr>\n",
       "    <tr>\n",
       "      <th>LGBM</th>\n",
       "      <td>2.206648</td>\n",
       "      <td>1738.307768</td>\n",
       "    </tr>\n",
       "    <tr>\n",
       "      <th>CATBOOST</th>\n",
       "      <td>16.686579</td>\n",
       "      <td>1715.956686</td>\n",
       "    </tr>\n",
       "    <tr>\n",
       "      <th>XGB</th>\n",
       "      <td>2.028952</td>\n",
       "      <td>1706.733649</td>\n",
       "    </tr>\n",
       "  </tbody>\n",
       "</table>\n",
       "</div>"
      ],
      "text/plain": [
       "                  Execution Time (sec)         RMSE\n",
       "DecisionTree                  0.530017  2061.494803\n",
       "RandomForest                 17.766614  1786.686294\n",
       "LinearRegression              7.345530  2822.123714\n",
       "LGBM                          2.206648  1738.307768\n",
       "CATBOOST                     16.686579  1715.956686\n",
       "XGB                           2.028952  1706.733649"
      ]
     },
     "execution_count": 85,
     "metadata": {},
     "output_type": "execute_result"
    }
   ],
   "source": [
    "# General table\n",
    "rmse_df"
   ]
  },
  {
   "cell_type": "code",
   "execution_count": 86,
   "metadata": {},
   "outputs": [
    {
     "data": {
      "text/html": [
       "<div>\n",
       "<style scoped>\n",
       "    .dataframe tbody tr th:only-of-type {\n",
       "        vertical-align: middle;\n",
       "    }\n",
       "\n",
       "    .dataframe tbody tr th {\n",
       "        vertical-align: top;\n",
       "    }\n",
       "\n",
       "    .dataframe thead th {\n",
       "        text-align: right;\n",
       "    }\n",
       "</style>\n",
       "<table border=\"1\" class=\"dataframe\">\n",
       "  <thead>\n",
       "    <tr style=\"text-align: right;\">\n",
       "      <th></th>\n",
       "      <th>Execution Time (sec)</th>\n",
       "      <th>RMSE</th>\n",
       "    </tr>\n",
       "  </thead>\n",
       "  <tbody>\n",
       "    <tr>\n",
       "      <th>XGB</th>\n",
       "      <td>2.028952</td>\n",
       "      <td>1706.733649</td>\n",
       "    </tr>\n",
       "    <tr>\n",
       "      <th>CATBOOST</th>\n",
       "      <td>16.686579</td>\n",
       "      <td>1715.956686</td>\n",
       "    </tr>\n",
       "    <tr>\n",
       "      <th>LGBM</th>\n",
       "      <td>2.206648</td>\n",
       "      <td>1738.307768</td>\n",
       "    </tr>\n",
       "  </tbody>\n",
       "</table>\n",
       "</div>"
      ],
      "text/plain": [
       "          Execution Time (sec)         RMSE\n",
       "XGB                   2.028952  1706.733649\n",
       "CATBOOST             16.686579  1715.956686\n",
       "LGBM                  2.206648  1738.307768"
      ]
     },
     "execution_count": 86,
     "metadata": {},
     "output_type": "execute_result"
    }
   ],
   "source": [
    "# Top 3 RMSE\n",
    "rmse_df.sort_values(by='RMSE').head(3)"
   ]
  },
  {
   "cell_type": "code",
   "execution_count": 87,
   "metadata": {},
   "outputs": [
    {
     "data": {
      "text/html": [
       "<div>\n",
       "<style scoped>\n",
       "    .dataframe tbody tr th:only-of-type {\n",
       "        vertical-align: middle;\n",
       "    }\n",
       "\n",
       "    .dataframe tbody tr th {\n",
       "        vertical-align: top;\n",
       "    }\n",
       "\n",
       "    .dataframe thead th {\n",
       "        text-align: right;\n",
       "    }\n",
       "</style>\n",
       "<table border=\"1\" class=\"dataframe\">\n",
       "  <thead>\n",
       "    <tr style=\"text-align: right;\">\n",
       "      <th></th>\n",
       "      <th>Execution Time (sec)</th>\n",
       "      <th>RMSE</th>\n",
       "    </tr>\n",
       "  </thead>\n",
       "  <tbody>\n",
       "    <tr>\n",
       "      <th>DecisionTree</th>\n",
       "      <td>0.530017</td>\n",
       "      <td>2061.494803</td>\n",
       "    </tr>\n",
       "    <tr>\n",
       "      <th>XGB</th>\n",
       "      <td>2.028952</td>\n",
       "      <td>1706.733649</td>\n",
       "    </tr>\n",
       "    <tr>\n",
       "      <th>LGBM</th>\n",
       "      <td>2.206648</td>\n",
       "      <td>1738.307768</td>\n",
       "    </tr>\n",
       "  </tbody>\n",
       "</table>\n",
       "</div>"
      ],
      "text/plain": [
       "              Execution Time (sec)         RMSE\n",
       "DecisionTree              0.530017  2061.494803\n",
       "XGB                       2.028952  1706.733649\n",
       "LGBM                      2.206648  1738.307768"
      ]
     },
     "execution_count": 87,
     "metadata": {},
     "output_type": "execute_result"
    }
   ],
   "source": [
    "# Top 3 Best times execution\n",
    "rmse_df.sort_values(by='Execution Time (sec)').head(3)"
   ]
  },
  {
   "cell_type": "markdown",
   "metadata": {},
   "source": [
    "## FINAL CONCLUTION\n",
    "\n",
    "- We can observe that XGB achieved the best RMSE among the 6 models with an average of approximately 2.61 seconds, followed by CATBOOST. However, LGBM achieved a very close value in a shorter time.\n",
    "\n",
    "Therefore, in this case, we could consider that the best option for determining the value of a vehicle could be achieved using the XGB method, as its execution time is the second lowest but it has the best RMSE."
   ]
  }
 ],
 "metadata": {
  "kernelspec": {
   "display_name": "Python 3",
   "language": "python",
   "name": "python3"
  },
  "language_info": {
   "codemirror_mode": {
    "name": "ipython",
    "version": 3
   },
   "file_extension": ".py",
   "mimetype": "text/x-python",
   "name": "python",
   "nbconvert_exporter": "python",
   "pygments_lexer": "ipython3",
   "version": "3.11.9"
  }
 },
 "nbformat": 4,
 "nbformat_minor": 2
}
